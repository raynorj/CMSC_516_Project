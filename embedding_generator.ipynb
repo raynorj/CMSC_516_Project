{
 "cells": [
  {
   "cell_type": "markdown",
   "metadata": {},
   "source": [
    "Word Embedding Generator (text version)"
   ]
  },
  {
   "cell_type": "code",
   "execution_count": 2,
   "metadata": {},
   "outputs": [],
   "source": [
    "from gensim.models import Word2Vec\n",
    "from nltk.corpus import wordnet\n",
    "\n",
    "def data_loader(filename):\n",
    "\tf = open(filename, \"r\")\n",
    "\tlines=f.readlines()\n",
    "\n",
    "\tsent=[[] for i in lines]                    ### initializing list\n",
    "\tprobs=[[] for i in lines]                   ### Intializing list \n",
    "\n",
    "\tj=0\n",
    "\tword=''\n",
    "\tprob=''\n",
    "\tfor i in range(0,len(lines)):               ### loop on each line of file\n",
    "\t\tcols=lines[i].strip().split('\\t')         ### spliting line on the basis of tab\n",
    "\t\tif (len(cols)>2):                         ### if line has data\n",
    "\t\t\tsent[j].append(cols[1].lower())                 ### Appending word in list named sent\n",
    "\t\t\tprobs[j].append(float(cols[4]))                ### Appending probs in list named probs\n",
    "\t\telse:\n",
    "\t\t\tj=j+1\n",
    "\n",
    "\tsent = [x for x in sent if x != []]\n",
    "\tprobs = [x for x in probs if x != []]\n",
    "\n",
    "\treturn sent,probs\n",
    "\n",
    "filename = \"train.txt\"\n",
    "sentences,emphasis_probabilities = data_loader(filename)\n",
    "\n",
    "#convert sentences to synset sequences\n",
    "#requires word sense disambiguation?\n",
    "\n",
    "model = Word2Vec(sentences, min_count=1)\n",
    "model.wv.save(\"w2v.vec\")"
   ]
  }
 ],
 "metadata": {
  "kernelspec": {
   "display_name": "Python 3",
   "language": "python",
   "name": "python3"
  },
  "language_info": {
   "codemirror_mode": {
    "name": "ipython",
    "version": 3
   },
   "file_extension": ".py",
   "mimetype": "text/x-python",
   "name": "python",
   "nbconvert_exporter": "python",
   "pygments_lexer": "ipython3",
   "version": "3.7.3"
  }
 },
 "nbformat": 4,
 "nbformat_minor": 2
}
